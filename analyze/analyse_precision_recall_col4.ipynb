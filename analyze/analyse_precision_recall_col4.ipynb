{
 "cells": [
  {
   "cell_type": "code",
   "execution_count": 1,
   "metadata": {},
   "outputs": [
    {
     "ename": "ImportError",
     "evalue": "cannot import name 'get_recall_graph'",
     "output_type": "error",
     "traceback": [
      "\u001b[0;31m---------------------------------------------------------------------------\u001b[0m",
      "\u001b[0;31mImportError\u001b[0m                               Traceback (most recent call last)",
      "\u001b[0;32m<ipython-input-1-33695a401db8>\u001b[0m in \u001b[0;36m<module>\u001b[0;34m\u001b[0m\n\u001b[1;32m      1\u001b[0m \u001b[0;32mimport\u001b[0m \u001b[0mpandas\u001b[0m \u001b[0;32mas\u001b[0m \u001b[0mpd\u001b[0m\u001b[0;34m\u001b[0m\u001b[0;34m\u001b[0m\u001b[0m\n\u001b[0;32m----> 2\u001b[0;31m \u001b[0;32mfrom\u001b[0m \u001b[0manalyse_precision_recall\u001b[0m \u001b[0;32mimport\u001b[0m \u001b[0mformat_raw_data\u001b[0m\u001b[0;34m,\u001b[0m \u001b[0mchart_time_series\u001b[0m\u001b[0;34m,\u001b[0m \u001b[0mget_recall_graph\u001b[0m\u001b[0;34m,\u001b[0m \u001b[0mget_perfomance\u001b[0m\u001b[0;34m,\u001b[0m \u001b[0mperformance_graph\u001b[0m\u001b[0;34m\u001b[0m\u001b[0;34m\u001b[0m\u001b[0m\n\u001b[0m",
      "\u001b[0;31mImportError\u001b[0m: cannot import name 'get_recall_graph'"
     ]
    }
   ],
   "source": [
    "import pandas as pd\n",
    "from analyse_precision_recall import format_raw_data, chart_time_series, get_recall_graph, get_perfomance, performance_graph"
   ]
  },
  {
   "cell_type": "code",
   "execution_count": null,
   "metadata": {},
   "outputs": [],
   "source": [
    "data = pd.read_csv(\"./errormatrix_infra_lapig_1anoee_export.csv\")"
   ]
  },
  {
   "cell_type": "code",
   "execution_count": null,
   "metadata": {},
   "outputs": [],
   "source": [
    "data_f = format_raw_data(data)\n",
    "\n",
    "data_f.head()"
   ]
  },
  {
   "cell_type": "code",
   "execution_count": null,
   "metadata": {},
   "outputs": [],
   "source": [
    "#remove true negative and plot a time series graph\n",
    "chart_time_series(data_f[data_f['category'] != 'tn'])"
   ]
  },
  {
   "cell_type": "code",
   "execution_count": null,
   "metadata": {},
   "outputs": [],
   "source": [
    "perfomance_data = get_perfomance(data)"
   ]
  },
  {
   "cell_type": "code",
   "execution_count": null,
   "metadata": {},
   "outputs": [],
   "source": [
    "perfomance_data.head(3)"
   ]
  },
  {
   "cell_type": "code",
   "execution_count": null,
   "metadata": {},
   "outputs": [],
   "source": [
    "recall_graph = performance_graph(perfomance_data, 'recall', 'Recall')\n",
    "precision_graph = performance_graph(perfomance_data, 'precision', 'Precision')\n",
    "accuracy_graph = performance_graph(perfomance_data, 'accuracy', 'Accuracy')\n",
    "bal_accuracy_graph = performance_graph(perfomance_data, 'bal_accuracy', 'Balanced Accuracy')\n",
    "\n",
    "recall_graph"
   ]
  },
  {
   "cell_type": "code",
   "execution_count": null,
   "metadata": {},
   "outputs": [],
   "source": [
    "bal_accuracy_graph"
   ]
  },
  {
   "cell_type": "code",
   "execution_count": null,
   "metadata": {},
   "outputs": [],
   "source": []
  }
 ],
 "metadata": {
  "kernelspec": {
   "display_name": "python3_urban",
   "language": "python",
   "name": "python3_urban"
  },
  "language_info": {
   "codemirror_mode": {
    "name": "ipython",
    "version": 3
   },
   "file_extension": ".py",
   "mimetype": "text/x-python",
   "name": "python",
   "nbconvert_exporter": "python",
   "pygments_lexer": "ipython3",
   "version": "3.6.7"
  }
 },
 "nbformat": 4,
 "nbformat_minor": 2
}
